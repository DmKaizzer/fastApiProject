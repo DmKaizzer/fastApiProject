{
 "cells": [
  {
   "cell_type": "code",
   "id": "initial_id",
   "metadata": {
    "collapsed": true,
    "ExecuteTime": {
     "end_time": "2024-10-28T12:02:46.461508Z",
     "start_time": "2024-10-28T12:02:45.946223Z"
    }
   },
   "source": [
    "import requests\n",
    "\n",
    "URL = \"http://127.0.0.1:8000/\";"
   ],
   "outputs": [],
   "execution_count": 2
  },
  {
   "metadata": {
    "ExecuteTime": {
     "end_time": "2024-10-28T12:02:47.236773Z",
     "start_time": "2024-10-28T12:02:47.221995Z"
    }
   },
   "cell_type": "code",
   "source": [
    "param = {\n",
    "    'a': 12,\n",
    "    'b': 14\n",
    "}\n",
    "response = requests.post(URL + 'sum', json = param)\n",
    "print(response.text)"
   ],
   "id": "3588fb371cb72664",
   "outputs": [
    {
     "name": "stdout",
     "output_type": "stream",
     "text": [
      "{\"result\":26.0}\n"
     ]
    }
   ],
   "execution_count": 3
  },
  {
   "metadata": {
    "ExecuteTime": {
     "end_time": "2024-10-28T12:02:56.858331Z",
     "start_time": "2024-10-28T12:02:56.846558Z"
    }
   },
   "cell_type": "code",
   "source": [
    "param = {\n",
    "    'a': 34,\n",
    "    'b': 14\n",
    "}\n",
    "response = requests.post(URL + 'subtract', json = param)\n",
    "print(response.text)"
   ],
   "id": "d9353fda1f7f4e1b",
   "outputs": [
    {
     "name": "stdout",
     "output_type": "stream",
     "text": [
      "{\"result\":20.0}\n"
     ]
    }
   ],
   "execution_count": 4
  },
  {
   "metadata": {
    "ExecuteTime": {
     "end_time": "2024-10-28T12:03:06.537749Z",
     "start_time": "2024-10-28T12:03:06.527647Z"
    }
   },
   "cell_type": "code",
   "source": [
    "param = {\n",
    "    'a': 34,\n",
    "    'b': 14\n",
    "}\n",
    "response = requests.post(URL + 'multiply', json = param)\n",
    "print(response.text)"
   ],
   "id": "a838069b7e54bdaa",
   "outputs": [
    {
     "name": "stdout",
     "output_type": "stream",
     "text": [
      "{\"result\":476.0}\n"
     ]
    }
   ],
   "execution_count": 5
  },
  {
   "metadata": {
    "ExecuteTime": {
     "end_time": "2024-10-28T12:03:11.746658Z",
     "start_time": "2024-10-28T12:03:11.734537Z"
    }
   },
   "cell_type": "code",
   "source": [
    "param = {\n",
    "    'a': 34,\n",
    "    'b': 14\n",
    "}\n",
    "response = requests.post(URL + 'divide', json = param)\n",
    "print(response.text)"
   ],
   "id": "80faa24232aae1ed",
   "outputs": [
    {
     "name": "stdout",
     "output_type": "stream",
     "text": [
      "{\"result\":2.4285714285714284}\n"
     ]
    }
   ],
   "execution_count": 6
  }
 ],
 "metadata": {
  "kernelspec": {
   "display_name": "Python 3",
   "language": "python",
   "name": "python3"
  },
  "language_info": {
   "codemirror_mode": {
    "name": "ipython",
    "version": 2
   },
   "file_extension": ".py",
   "mimetype": "text/x-python",
   "name": "python",
   "nbconvert_exporter": "python",
   "pygments_lexer": "ipython2",
   "version": "2.7.6"
  }
 },
 "nbformat": 4,
 "nbformat_minor": 5
}
